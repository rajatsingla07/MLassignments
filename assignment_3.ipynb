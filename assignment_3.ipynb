{
 "cells": [
  {
   "cell_type": "code",
   "execution_count": null,
   "metadata": {},
   "outputs": [],
   "source": [
    "#Q1\n",
    "pab=2/36\n",
    "pa=11/36\n",
    "pb=6/36"
   ]
  },
  {
   "cell_type": "code",
   "execution_count": null,
   "metadata": {},
   "outputs": [],
   "source": [
    "def pba(pa,pb,pab):\n",
    "    x=pb*pab\n",
    "    rk=x/pa\n",
    "    print(\"P(B|A)=\",rk)\n"
   ]
  },
  {
   "cell_type": "code",
   "execution_count": null,
   "metadata": {},
   "outputs": [],
   "source": [
    "pba(pa,pb,pab)"
   ]
  },
  {
   "cell_type": "raw",
   "metadata": {},
   "source": []
  },
  {
   "cell_type": "code",
   "execution_count": null,
   "metadata": {},
   "outputs": [],
   "source": [
    "#Q3 using bayes theoram\n",
    "p4=1/6\n",
    "pn4=5/6\n",
    "pt=2/3\n",
    "pnt=1/3\n",
    "pt2=1-pt\n",
    "Pf=(p4*pt)/((p4*pt)+(pn4*pnt))\n",
    "print(\"P(4) probablity that no. obtained is actually 4 is \",Pf)"
   ]
  },
  {
   "cell_type": "code",
   "execution_count": 1,
   "metadata": {},
   "outputs": [
    {
     "name": "stdout",
     "output_type": "stream",
     "text": [
      "P(b1) probablity that ball drawn is from bag 1  0.5833333333333334\n"
     ]
    }
   ],
   "source": [
    "#Q2\n",
    "w1=4\n",
    "b1=6\n",
    "w2=4\n",
    "b2=3\n",
    "pb1=1/2\n",
    "pb2=1/2\n",
    "b2=3/7\n",
    "b1=6/10\n",
    "\n",
    "#since drawn ball is black,to find it is of 1st bag\n",
    "pb=(b1*pb1)/((pb1*b1)+(b2*pb2))\n",
    "print(\"P(b1) probablity that ball drawn is from bag 1 \",pb)"
   ]
  },
  {
   "cell_type": "code",
   "execution_count": null,
   "metadata": {},
   "outputs": [],
   "source": []
  }
 ],
 "metadata": {
  "kernelspec": {
   "display_name": "Python 3",
   "language": "python",
   "name": "python3"
  },
  "language_info": {
   "codemirror_mode": {
    "name": "ipython",
    "version": 3
   },
   "file_extension": ".py",
   "mimetype": "text/x-python",
   "name": "python",
   "nbconvert_exporter": "python",
   "pygments_lexer": "ipython3",
   "version": "3.6.5"
  }
 },
 "nbformat": 4,
 "nbformat_minor": 2
}
